{
 "cells": [
  {
   "cell_type": "code",
   "execution_count": 35,
   "id": "7232002a-6976-4df4-9007-0921fd4255b9",
   "metadata": {},
   "outputs": [],
   "source": [
    "import pandas as pd\n",
    "from sklearn.metrics.pairwise import cosine_similarity\n",
    "from sklearn.preprocessing import MinMaxScaler"
   ]
  },
  {
   "cell_type": "code",
   "execution_count": 36,
   "id": "ab2d4b6b-5776-4852-998a-c2b164325505",
   "metadata": {},
   "outputs": [],
   "source": [
    "# Load datasets\n",
    "customers = pd.read_csv('C:/Users/dell/OneDrive/Desktop/ZeoTap/Customers.csv')\n",
    "products = pd.read_csv('C:/Users/dell/OneDrive/Desktop/ZeoTap/Products.csv')\n",
    "transactions = pd.read_csv('C:/Users/dell/OneDrive/Desktop/ZeoTap/Transactions.csv')"
   ]
  },
  {
   "cell_type": "code",
   "execution_count": 37,
   "id": "bd978a9f-ac0a-42bc-8969-185b15791c5b",
   "metadata": {},
   "outputs": [],
   "source": [
    "# Merge datasets\n",
    "merged_data = transactions.merge(customers, on='CustomerID').merge(products, on='ProductID')"
   ]
  },
  {
   "cell_type": "code",
   "execution_count": 38,
   "id": "f12b96ab-d999-4a84-8ede-63d9309d3e41",
   "metadata": {},
   "outputs": [],
   "source": [
    "# Feature Engineering: Create customer profiles\n",
    "customer_profiles = merged_data.groupby('CustomerID').agg(\n",
    "    TotalSpending=('TotalValue', 'sum'),\n",
    "    AvgOrderValue=('TotalValue', 'mean'),\n",
    "    TotalQuantity=('Quantity', 'sum')\n",
    ")"
   ]
  },
  {
   "cell_type": "code",
   "execution_count": 39,
   "id": "049f976a-b15a-4a8e-9aaf-9cd3ab49f7b8",
   "metadata": {},
   "outputs": [],
   "source": [
    "# Normalize the features\n",
    "scaler = MinMaxScaler()\n",
    "normalized_profiles = scaler.fit_transform(customer_profiles)\n",
    "\n",
    "# Compute Cosine Similarity\n",
    "similarity_matrix = cosine_similarity(normalized_profiles)\n",
    "\n",
    "# Map CustomerID to similarity scores\n",
    "customer_ids = customer_profiles.index.tolist()\n",
    "similarity_df = pd.DataFrame(similarity_matrix, index=customer_ids, columns=customer_ids)"
   ]
  },
  {
   "cell_type": "code",
   "execution_count": 40,
   "id": "03ce4261-fd69-4dcd-9430-1dc2113aea21",
   "metadata": {},
   "outputs": [],
   "source": [
    "# Generate Lookalike Recommendations\n",
    "lookalike_results = []\n",
    "for customer in customer_ids[:20]:  # First 20 customers\n",
    "    similar_customers = similarity_df[customer].sort_values(ascending=False)[1:4]\n",
    "    recommendations = [(similar_customer, round(score, 2)) for similar_customer, score in similar_customers.items()]\n",
    "    lookalike_results.append({'CustomerID': customer, 'Lookalikes': recommendations})"
   ]
  },
  {
   "cell_type": "code",
   "execution_count": 41,
   "id": "b2b7def1-17b9-4f4e-b531-1586226993cd",
   "metadata": {},
   "outputs": [
    {
     "name": "stdout",
     "output_type": "stream",
     "text": [
      "Lookalike recommendations saved to FirstName_LastName_Lookalike.csv.\n"
     ]
    }
   ],
   "source": [
    "# Save to Lookalike.csv\n",
    "lookalike_df = pd.DataFrame(lookalike_results)\n",
    "lookalike_df.to_csv('FirstName_LastName_Lookalike.csv', index=False)\n",
    "\n",
    "print(\"Lookalike recommendations saved to FirstName_LastName_Lookalike.csv.\")"
   ]
  },
  {
   "cell_type": "code",
   "execution_count": 42,
   "id": "8b128a37-c22f-4ada-a241-f7742e3fc11b",
   "metadata": {},
   "outputs": [
    {
     "name": "stdout",
     "output_type": "stream",
     "text": [
      "   CustomerID                                        Lookalikes\n",
      "0       C0001  [('C0011', 1.0), ('C0191', 1.0), ('C0069', 1.0)]\n",
      "1       C0002  [('C0029', 1.0), ('C0083', 1.0), ('C0025', 1.0)]\n",
      "2       C0003  [('C0031', 1.0), ('C0142', 1.0), ('C0025', 1.0)]\n",
      "3       C0004  [('C0162', 1.0), ('C0017', 1.0), ('C0047', 1.0)]\n",
      "4       C0005  [('C0167', 1.0), ('C0131', 1.0), ('C0120', 1.0)]\n",
      "5       C0006  [('C0079', 1.0), ('C0117', 1.0), ('C0146', 1.0)]\n",
      "6       C0007  [('C0005', 1.0), ('C0061', 1.0), ('C0167', 1.0)]\n",
      "7       C0008  [('C0147', 1.0), ('C0075', 1.0), ('C0084', 1.0)]\n",
      "8       C0009  [('C0168', 1.0), ('C0196', 1.0), ('C0158', 1.0)]\n",
      "9       C0010  [('C0077', 1.0), ('C0032', 1.0), ('C0134', 1.0)]\n",
      "10      C0011  [('C0069', 1.0), ('C0149', 1.0), ('C0001', 1.0)]\n",
      "11      C0012  [('C0041', 1.0), ('C0194', 1.0), ('C0143', 1.0)]\n",
      "12      C0013  [('C0082', 1.0), ('C0155', 1.0), ('C0051', 1.0)]\n",
      "13      C0014  [('C0110', 1.0), ('C0020', 1.0), ('C0080', 1.0)]\n",
      "14      C0015  [('C0063', 1.0), ('C0128', 1.0), ('C0198', 1.0)]\n",
      "15      C0016  [('C0096', 1.0), ('C0187', 1.0), ('C0103', 1.0)]\n",
      "16      C0017  [('C0004', 1.0), ('C0113', 1.0), ('C0098', 1.0)]\n",
      "17      C0018  [('C0056', 1.0), ('C0191', 1.0), ('C0001', 1.0)]\n",
      "18      C0019  [('C0124', 1.0), ('C0119', 1.0), ('C0034', 1.0)]\n",
      "19      C0020  [('C0080', 1.0), ('C0150', 1.0), ('C0130', 1.0)]\n"
     ]
    }
   ],
   "source": [
    "lookalike_data = pd.read_csv('FirstName_LastName_Lookalike.csv')\n",
    "print(lookalike_data)"
   ]
  },
  {
   "cell_type": "code",
   "execution_count": null,
   "id": "4c4a1312-016a-443e-b206-d663da4e850d",
   "metadata": {},
   "outputs": [],
   "source": []
  }
 ],
 "metadata": {
  "kernelspec": {
   "display_name": "Python 3 (ipykernel)",
   "language": "python",
   "name": "python3"
  },
  "language_info": {
   "codemirror_mode": {
    "name": "ipython",
    "version": 3
   },
   "file_extension": ".py",
   "mimetype": "text/x-python",
   "name": "python",
   "nbconvert_exporter": "python",
   "pygments_lexer": "ipython3",
   "version": "3.12.4"
  }
 },
 "nbformat": 4,
 "nbformat_minor": 5
}
